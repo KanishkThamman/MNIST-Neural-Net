{
  "cells": [
    {
      "cell_type": "markdown",
      "metadata": {
        "id": "_XQYIKt3KL8K"
      },
      "source": [
        "# Day One"
      ]
    },
    {
      "cell_type": "code",
      "execution_count": 1,
      "metadata": {
        "id": "DzU58rhqKL8M"
      },
      "outputs": [],
      "source": [
        "#%pip install tensorflow"
      ]
    },
    {
      "cell_type": "code",
      "execution_count": 2,
      "metadata": {
        "id": "jGfS8rLmKL8N"
      },
      "outputs": [],
      "source": [
        "import tensorflow as tf\n",
        "import numpy as np\n",
        "import matplotlib.pyplot as plt\n",
        "from tensorflow import keras"
      ]
    },
    {
      "cell_type": "code",
      "execution_count": 3,
      "metadata": {
        "colab": {
          "base_uri": "https://localhost:8080/"
        },
        "id": "tb5MvIy7KL8N",
        "outputId": "b69aaab3-095e-476e-89e9-1998855fec14"
      },
      "outputs": [
        {
          "output_type": "stream",
          "name": "stdout",
          "text": [
            "Downloading data from https://storage.googleapis.com/tensorflow/tf-keras-datasets/mnist.npz\n",
            "11490434/11490434 [==============================] - 0s 0us/step\n"
          ]
        }
      ],
      "source": [
        "# loading dataset\n",
        "#mnist\n",
        "\n",
        "(x_train, y_train), (x_test, y_test) = keras.datasets.mnist.load_data()"
      ]
    },
    {
      "cell_type": "code",
      "execution_count": 4,
      "metadata": {
        "colab": {
          "base_uri": "https://localhost:8080/"
        },
        "id": "4eBEHDWwKL8O",
        "outputId": "587ab1a9-a572-4189-fe71-f554f9345f5c"
      },
      "outputs": [
        {
          "output_type": "stream",
          "name": "stdout",
          "text": [
            "(60000, 28, 28)\n",
            "(10000, 28, 28)\n"
          ]
        }
      ],
      "source": [
        "# shape of traning data\n",
        "print(x_train.shape)\n",
        "\n",
        "# shape of testing data\n",
        "\n",
        "print(x_test.shape)\n",
        "\n",
        "# 28*28 is picture size"
      ]
    },
    {
      "cell_type": "code",
      "execution_count": 5,
      "metadata": {
        "colab": {
          "base_uri": "https://localhost:8080/",
          "height": 447
        },
        "id": "ZjE093JTKL8O",
        "outputId": "1c61a98a-2bd8-42cb-a1be-07dcec2a2e4e"
      },
      "outputs": [
        {
          "output_type": "execute_result",
          "data": {
            "text/plain": [
              "<matplotlib.image.AxesImage at 0x7dc5688db310>"
            ]
          },
          "metadata": {},
          "execution_count": 5
        },
        {
          "output_type": "display_data",
          "data": {
            "text/plain": [
              "<Figure size 640x480 with 1 Axes>"
            ],
            "image/png": "[encoded data removed]"
          },
          "metadata": {}
        }
      ],
      "source": [
        "# resolution of image is 28*28\n",
        "# every image is a 28*28 matrix, matrix of piexls\n",
        "# every pixel is a number between 0 and 255, 0--> black, 255--> white\n",
        "\n",
        "# lets see the first image\n",
        "\n",
        "plt.imshow(x_train[0], cmap='gray')"
      ]
    },
    {
      "cell_type": "code",
      "execution_count": 6,
      "metadata": {
        "id": "cxqBz5O5KL8P"
      },
      "outputs": [],
      "source": [
        "# MNIST dataset is a dataset of 28x28 images of handwritten digits and the labels are from 0 to 9"
      ]
    },
    {
      "cell_type": "code",
      "execution_count": 7,
      "metadata": {
        "colab": {
          "base_uri": "https://localhost:8080/",
          "height": 454
        },
        "id": "ER7M3HZuKL8P",
        "outputId": "772e1fd5-f5fd-4091-f01c-702559c5678d"
      },
      "outputs": [
        {
          "output_type": "execute_result",
          "data": {
            "text/plain": [
              "<matplotlib.image.AxesImage at 0x7dc563197d30>"
            ]
          },
          "metadata": {},
          "execution_count": 7
        },
        {
          "output_type": "display_data",
          "data": {
            "text/plain": [
              "<Figure size 480x480 with 1 Axes>"
            ],
            "image/png": "[encoded data removed]"
          },
          "metadata": {}
        }
      ],
      "source": [
        "# another way to see the image\n",
        "plt.matshow(x_train[5])"
      ]
    },
    {
      "cell_type": "code",
      "execution_count": 8,
      "metadata": {
        "colab": {
          "base_uri": "https://localhost:8080/"
        },
        "id": "os3swyepKL8P",
        "outputId": "49192d50-16d2-4b43-e948-bccfb6f91aa2"
      },
      "outputs": [
        {
          "output_type": "stream",
          "name": "stdout",
          "text": [
            "[[  0   0   0   0   0   0   0   0   0   0   0   0   0   0   0   0   0   0\n",
            "    0   0   0   0   0   0   0   0   0   0]\n",
            " [  0   0   0   0   0   0   0   0   0   0   0   0   0   0   0   0   0   0\n",
            "    0   0   0   0   0   0   0   0   0   0]\n",
            " [  0   0   0   0   0   0   0   0   0   0   0   0   0   0   0   0   0   0\n",
            "    0   0   0   0   0   0   0   0   0   0]\n",
            " [  0   0   0   0   0   0   0   0   0   0   0   0   0   0   0   0   0   0\n",
            "    0   0   0   0   0   0   0   0   0   0]\n",
            " [  0   0   0   0   0   0   0   0   0   0   0   0   0   0   0   0   0   0\n",
            "    0   0   0   0   0   0   0   0   0   0]\n",
            " [  0   0   0   0   0   0   0   0   0   0   0   0   0   0   0  13  25 100\n",
            "  122   7   0   0   0   0   0   0   0   0]\n",
            " [  0   0   0   0   0   0   0   0   0   0   0   0   0  33 151 208 252 252\n",
            "  252 146   0   0   0   0   0   0   0   0]\n",
            " [  0   0   0   0   0   0   0   0   0   0   0  40 152 244 252 253 224 211\n",
            "  252 232  40   0   0   0   0   0   0   0]\n",
            " [  0   0   0   0   0   0   0   0   0  15 152 239 252 252 252 216  31  37\n",
            "  252 252  60   0   0   0   0   0   0   0]\n",
            " [  0   0   0   0   0   0   0   0   0  96 252 252 252 252 217  29   0  37\n",
            "  252 252  60   0   0   0   0   0   0   0]\n",
            " [  0   0   0   0   0   0   0   0   0 181 252 252 220 167  30   0   0  77\n",
            "  252 252  60   0   0   0   0   0   0   0]\n",
            " [  0   0   0   0   0   0   0   0   0  26 128  58  22   0   0   0   0 100\n",
            "  252 252  60   0   0   0   0   0   0   0]\n",
            " [  0   0   0   0   0   0   0   0   0   0   0   0   0   0   0   0   0 157\n",
            "  252 252  60   0   0   0   0   0   0   0]\n",
            " [  0   0   0   0   0   0   0   0   0   0   0   0   0 110 121 122 121 202\n",
            "  252 194   3   0   0   0   0   0   0   0]\n",
            " [  0   0   0   0   0   0   0   0   0   0  10  53 179 253 253 255 253 253\n",
            "  228  35   0   0   0   0   0   0   0   0]\n",
            " [  0   0   0   0   0   0   0   0   5  54 227 252 243 228 170 242 252 252\n",
            "  231 117   6   0   0   0   0   0   0   0]\n",
            " [  0   0   0   0   0   0   0   6  78 252 252 125  59   0  18 208 252 252\n",
            "  252 252  87   7   0   0   0   0   0   0]\n",
            " [  0   0   0   0   0   0   5 135 252 252 180  16   0  21 203 253 247 129\n",
            "  173 252 252 184  66  49  49   0   0   0]\n",
            " [  0   0   0   0   0   3 136 252 241 106  17   0  53 200 252 216  65   0\n",
            "   14  72 163 241 252 252 223   0   0   0]\n",
            " [  0   0   0   0   0 105 252 242  88  18  73 170 244 252 126  29   0   0\n",
            "    0   0   0  89 180 180  37   0   0   0]\n",
            " [  0   0   0   0   0 231 252 245 205 216 252 252 252 124   3   0   0   0\n",
            "    0   0   0   0   0   0   0   0   0   0]\n",
            " [  0   0   0   0   0 207 252 252 252 252 178 116  36   4   0   0   0   0\n",
            "    0   0   0   0   0   0   0   0   0   0]\n",
            " [  0   0   0   0   0  13  93 143 121  23   6   0   0   0   0   0   0   0\n",
            "    0   0   0   0   0   0   0   0   0   0]\n",
            " [  0   0   0   0   0   0   0   0   0   0   0   0   0   0   0   0   0   0\n",
            "    0   0   0   0   0   0   0   0   0   0]\n",
            " [  0   0   0   0   0   0   0   0   0   0   0   0   0   0   0   0   0   0\n",
            "    0   0   0   0   0   0   0   0   0   0]\n",
            " [  0   0   0   0   0   0   0   0   0   0   0   0   0   0   0   0   0   0\n",
            "    0   0   0   0   0   0   0   0   0   0]\n",
            " [  0   0   0   0   0   0   0   0   0   0   0   0   0   0   0   0   0   0\n",
            "    0   0   0   0   0   0   0   0   0   0]\n",
            " [  0   0   0   0   0   0   0   0   0   0   0   0   0   0   0   0   0   0\n",
            "    0   0   0   0   0   0   0   0   0   0]]\n"
          ]
        }
      ],
      "source": [
        "# what if we want to see the image\n",
        "print(x_train[5])"
      ]
    },
    {
      "cell_type": "code",
      "execution_count": 9,
      "metadata": {
        "id": "rzxD4dCyKL8Q"
      },
      "outputs": [],
      "source": [
        "# now we need to flatten the array\n",
        "x_train_flattened = x_train.reshape(len(x_train), 28*28)\n",
        "x_test_flattened = x_test.reshape(len(x_test), 28*28)\n",
        "\n",
        "# alternatove way to flatten the array\n",
        "x_train_flattened = x_train.reshape(-1, 28*28)\n",
        "x_test_flattened = x_test.reshape(-1, 28*28)\n"
      ]
    },
    {
      "cell_type": "code",
      "execution_count": 10,
      "metadata": {
        "colab": {
          "base_uri": "https://localhost:8080/"
        },
        "id": "xYn7S0t8KL8Q",
        "outputId": "08c5cbb7-642d-4119-ab0d-ce6caa8e3bf9"
      },
      "outputs": [
        {
          "output_type": "stream",
          "name": "stdout",
          "text": [
            "(60000, 784)\n"
          ]
        }
      ],
      "source": [
        "# shape of flattened array\n",
        "print(x_train_flattened.shape)"
      ]
    },
    {
      "cell_type": "code",
      "execution_count": 11,
      "metadata": {
        "id": "RECJxfDEKL8Q"
      },
      "outputs": [],
      "source": [
        "# since 28*28 = 784, we know that it flattend correctly"
      ]
    },
    {
      "cell_type": "code",
      "execution_count": 12,
      "metadata": {
        "id": "1x9fU8t-KL8Q"
      },
      "outputs": [],
      "source": [
        "# Model building"
      ]
    },
    {
      "cell_type": "code",
      "execution_count": 13,
      "metadata": {
        "id": "XJe1GuDUKL8R"
      },
      "outputs": [],
      "source": [
        "# we are going to use keras to build the model, no hidden layer in this model\n",
        "model = keras.Sequential(\n",
        "    [\n",
        "        keras.layers.Dense(10, input_shape=(784,), activation='sigmoid')\n",
        "\n",
        "    ]\n",
        ")\n",
        "\n",
        "# thats it, we have built the model!"
      ]
    },
    {
      "cell_type": "code",
      "execution_count": 14,
      "metadata": {
        "id": "jC1owsc4KL8R"
      },
      "outputs": [],
      "source": [
        "#lets compile the model\n",
        "model.compile(\n",
        "    optimizer='adam', # makes sure that the model is learning and improving, impoveing the time it takes to reach global minima\n",
        "    loss='sparse_categorical_crossentropy', # loss function, how far we are from the correct answer\n",
        "    metrics=['accuracy'] # what measure we are going to use to see how well the model is doing\n",
        ")"
      ]
    },
    {
      "cell_type": "code",
      "execution_count": 15,
      "metadata": {
        "colab": {
          "base_uri": "https://localhost:8080/"
        },
        "id": "k6fYR-ajKL8R",
        "outputId": "759cdfa7-ddeb-45c3-9d1f-694922dc21b8"
      },
      "outputs": [
        {
          "output_type": "stream",
          "name": "stdout",
          "text": [
            "Epoch 1/5\n",
            "1875/1875 [==============================] - 8s 3ms/step - loss: 10.1350 - accuracy: 0.8398\n",
            "Epoch 2/5\n",
            "1875/1875 [==============================] - 7s 4ms/step - loss: 6.1621 - accuracy: 0.8774\n",
            "Epoch 3/5\n",
            "1875/1875 [==============================] - 6s 3ms/step - loss: 5.6962 - accuracy: 0.8818\n",
            "Epoch 4/5\n",
            "1875/1875 [==============================] - 6s 3ms/step - loss: 5.5055 - accuracy: 0.8856\n",
            "Epoch 5/5\n",
            "1875/1875 [==============================] - 6s 3ms/step - loss: 5.4047 - accuracy: 0.8880\n"
          ]
        },
        {
          "output_type": "execute_result",
          "data": {
            "text/plain": [
              "<keras.src.callbacks.History at 0x7dc55a08b250>"
            ]
          },
          "metadata": {},
          "execution_count": 15
        }
      ],
      "source": [
        "# compiling done!! Now we need to train the model\n",
        "\n",
        "model.fit(x_train_flattened, y_train, epochs=5)"
      ]
    },
    {
      "cell_type": "code",
      "execution_count": 16,
      "metadata": {
        "colab": {
          "base_uri": "https://localhost:8080/"
        },
        "id": "zqoATWpGKL8S",
        "outputId": "f90a8ce7-b27c-4039-d7ef-b8bbb180c62d"
      },
      "outputs": [
        {
          "output_type": "stream",
          "name": "stdout",
          "text": [
            "313/313 [==============================] - 1s 2ms/step - loss: 5.2715 - accuracy: 0.9026\n"
          ]
        },
        {
          "output_type": "execute_result",
          "data": {
            "text/plain": [
              "[5.271491527557373, 0.9025999903678894]"
            ]
          },
          "metadata": {},
          "execution_count": 16
        }
      ],
      "source": [
        "# now lets eval the model!\n",
        "model.evaluate(x_test_flattened, y_test) # 90% accuracy"
      ]
    },
    {
      "cell_type": "code",
      "execution_count": 17,
      "metadata": {
        "colab": {
          "base_uri": "https://localhost:8080/"
        },
        "id": "AwdyBoncKL8S",
        "outputId": "3dea1a13-55a0-4f9a-ad3f-b38ee26c9409"
      },
      "outputs": [
        {
          "output_type": "stream",
          "name": "stdout",
          "text": [
            "Epoch 1/5\n",
            "1875/1875 [==============================] - 6s 3ms/step - loss: 0.5617 - accuracy: 0.8482\n",
            "Epoch 2/5\n",
            "1875/1875 [==============================] - 4s 2ms/step - loss: 0.3760 - accuracy: 0.8921\n",
            "Epoch 3/5\n",
            "1875/1875 [==============================] - 8s 4ms/step - loss: 0.3339 - accuracy: 0.9003\n",
            "Epoch 4/5\n",
            "1875/1875 [==============================] - 6s 3ms/step - loss: 0.3238 - accuracy: 0.9030\n",
            "Epoch 5/5\n",
            "1875/1875 [==============================] - 5s 3ms/step - loss: 0.2992 - accuracy: 0.9105\n",
            "313/313 [==============================] - 1s 2ms/step - loss: 0.2868 - accuracy: 0.9137\n"
          ]
        },
        {
          "output_type": "execute_result",
          "data": {
            "text/plain": [
              "[0.2867867052555084, 0.9136999845504761]"
            ]
          },
          "metadata": {},
          "execution_count": 17
        }
      ],
      "source": [
        "# lets see whta happens if we add anoter layer\n",
        "model = keras.Sequential(\n",
        "    [\n",
        "        keras.layers.Dense(100, input_shape=(784,), activation='sigmoid'),\n",
        "        keras.layers.Dense(10, activation='sigmoid')\n",
        "\n",
        "    ]\n",
        ")\n",
        "\n",
        "#lets compile the model\n",
        "model.compile(\n",
        "    optimizer='adam', # makes sure that the model is learning and improving, impoveing the time it takes to reach global minima\n",
        "    loss='sparse_categorical_crossentropy', # loss function, how far we are from the correct answer\n",
        "    metrics=['accuracy'] # what measure we are going to use to see how well the model is doing\n",
        ")\n",
        "\n",
        "# compiling done!! Now we need to train the model\n",
        "\n",
        "model.fit(x_train_flattened, y_train, epochs=5)\n",
        "\n",
        "# now lets eval the model!\n",
        "model.evaluate(x_test_flattened, y_test) # 91% accuracy"
      ]
    },
    {
      "cell_type": "code",
      "execution_count": 18,
      "metadata": {
        "colab": {
          "base_uri": "https://localhost:8080/"
        },
        "id": "GMNWi9M3KL8S",
        "outputId": "10c4fa04-aeed-4f1a-9283-4e7ec6974f84"
      },
      "outputs": [
        {
          "output_type": "stream",
          "name": "stdout",
          "text": [
            "Epoch 1/5\n",
            "1875/1875 [==============================] - 11s 5ms/step - loss: 0.3576 - accuracy: 0.8981\n",
            "Epoch 2/5\n",
            "1875/1875 [==============================] - 8s 4ms/step - loss: 0.1812 - accuracy: 0.9500\n",
            "Epoch 3/5\n",
            "1875/1875 [==============================] - 8s 5ms/step - loss: 0.1453 - accuracy: 0.9619\n",
            "Epoch 4/5\n",
            "1875/1875 [==============================] - 9s 5ms/step - loss: 0.1251 - accuracy: 0.9679\n",
            "Epoch 5/5\n",
            "1875/1875 [==============================] - 8s 4ms/step - loss: 0.1064 - accuracy: 0.9725\n",
            "313/313 [==============================] - 1s 2ms/step - loss: 0.1302 - accuracy: 0.9677\n"
          ]
        },
        {
          "output_type": "execute_result",
          "data": {
            "text/plain": [
              "[0.13019083440303802, 0.9677000045776367]"
            ]
          },
          "metadata": {},
          "execution_count": 18
        }
      ],
      "source": [
        "# thats very good! we see a 3% increase in accuracy by adding a hidden layer!!\n",
        "# lets  see what happens if we add more hidden layers\n",
        "\n",
        "model = keras.Sequential(\n",
        "    [\n",
        "        keras.layers.Dense(100, input_shape=(784,), activation='relu'),\n",
        "        keras.layers.Dense(100, activation='relu'),\n",
        "        keras.layers.Dense(100, activation='relu'),\n",
        "        keras.layers.Dense(100, activation='relu'),\n",
        "        keras.layers.Dense(100, activation='relu'),\n",
        "        keras.layers.Dense(100, activation='relu'),\n",
        "        keras.layers.Dense(100, activation='relu'),\n",
        "        keras.layers.Dense(100, activation='relu'),\n",
        "        keras.layers.Dense(100, activation='relu'),\n",
        "        keras.layers.Dense(10, activation='sigmoid')\n",
        "    ]\n",
        ")\n",
        "\n",
        "#lets compile the model\n",
        "model.compile(\n",
        "    optimizer='adam', # makes sure that the model is learning and improving, impoveing the time it takes to reach global minima\n",
        "    loss='sparse_categorical_crossentropy', # loss function, how far we are from the correct answer\n",
        "    metrics=['accuracy'] # what measure we are going to use to see how well the model is doing\n",
        ")\n",
        "\n",
        "# compiling done!! Now we need to train the model\n",
        "\n",
        "model.fit(x_train_flattened, y_train, epochs=5)\n",
        "\n",
        "# now lets eval the model!\n",
        "model.evaluate(x_test_flattened, y_test) # 96.9% accuracy"
      ]
    },
    {
      "cell_type": "code",
      "execution_count": 19,
      "metadata": {
        "colab": {
          "base_uri": "https://localhost:8080/"
        },
        "id": "xUDkxapdKL8T",
        "outputId": "935298bd-e245-47a9-b17a-b086e1de6aa2"
      },
      "outputs": [
        {
          "output_type": "stream",
          "name": "stdout",
          "text": [
            "Epoch 1/10\n",
            "1875/1875 [==============================] - 8s 3ms/step - loss: 0.4102 - accuracy: 0.8756\n",
            "Epoch 2/10\n",
            "1875/1875 [==============================] - 5s 3ms/step - loss: 0.2753 - accuracy: 0.9140\n",
            "Epoch 3/10\n",
            "1875/1875 [==============================] - 6s 3ms/step - loss: 0.2367 - accuracy: 0.9241\n",
            "Epoch 4/10\n",
            "1875/1875 [==============================] - 5s 3ms/step - loss: 0.2098 - accuracy: 0.9344\n",
            "Epoch 5/10\n",
            "1875/1875 [==============================] - 6s 3ms/step - loss: 0.1887 - accuracy: 0.9398\n",
            "Epoch 6/10\n",
            "1875/1875 [==============================] - 5s 3ms/step - loss: 0.1770 - accuracy: 0.9447\n",
            "Epoch 7/10\n",
            "1875/1875 [==============================] - 7s 3ms/step - loss: 0.1639 - accuracy: 0.9474\n",
            "Epoch 8/10\n",
            "1875/1875 [==============================] - 5s 3ms/step - loss: 0.1549 - accuracy: 0.9510\n",
            "Epoch 9/10\n",
            "1875/1875 [==============================] - 6s 3ms/step - loss: 0.1471 - accuracy: 0.9529\n",
            "Epoch 10/10\n",
            "1875/1875 [==============================] - 5s 3ms/step - loss: 0.1419 - accuracy: 0.9555\n",
            "313/313 [==============================] - 1s 2ms/step - loss: 0.1579 - accuracy: 0.9506\n"
          ]
        },
        {
          "output_type": "execute_result",
          "data": {
            "text/plain": [
              "[0.15786069631576538, 0.9506000280380249]"
            ]
          },
          "metadata": {},
          "execution_count": 19
        }
      ],
      "source": [
        "# lets see if we make a 5 layer model (4 hidden layer, one input layer and one output layer) with the input layer having the number of pixels in the image, and the output layer having the number of classes in the dataset\n",
        "\n",
        "model = keras.Sequential(\n",
        "    [\n",
        "        keras.layers.Dense(784, input_shape=(784,), activation='sigmoid'),\n",
        "        keras.layers.Dense(450, activation='sigmoid'),\n",
        "        keras.layers.Dense(250, activation='sigmoid'),\n",
        "        keras.layers.Dense(10, activation='sigmoid')\n",
        "\n",
        "    ]\n",
        ")\n",
        "\n",
        "#lets compile the model\n",
        "model.compile(\n",
        "    optimizer='adam', # makes sure that the model is learning and improving, impoveing the time it takes to reach global minima\n",
        "    loss='sparse_categorical_crossentropy', # loss function, how far we are from the correct answer\n",
        "    metrics=['accuracy'] # what measure we are going to use to see how well the model is doing\n",
        ")\n",
        "\n",
        "# compiling done!! Now we need to train the model\n",
        "\n",
        "model.fit(x_train_flattened, y_train, epochs=10)\n",
        "\n",
        "# now lets eval the model!\n",
        "\n",
        "model.evaluate(x_test_flattened, y_test) # 92% accuracy"
      ]
    },
    {
      "cell_type": "markdown",
      "metadata": {
        "id": "u3amf1iQKL8T"
      },
      "source": [
        "# Second Day"
      ]
    },
    {
      "cell_type": "code",
      "execution_count": 20,
      "metadata": {
        "id": "BMytVfaYKL8T"
      },
      "outputs": [],
      "source": [
        "# lets try using catagorical entropy"
      ]
    },
    {
      "cell_type": "markdown",
      "source": [
        "### The formula for Sparse Catagorical Cross entropy (The one we used in the above models) :"
      ],
      "metadata": {
        "id": "zuYU2WZuLMMw"
      }
    },
    {
      "cell_type": "markdown",
      "source": [
        "![image.png](data:image/png;base64,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)"
      ],
      "metadata": {
        "id": "pT1RikIbLQ3V"
      }
    },
    {
      "cell_type": "code",
      "execution_count": 21,
      "metadata": {
        "id": "TlYthk7LKL8U"
      },
      "outputs": [],
      "source": [
        "# to use catagorical entropy this we need to one hot-encode.."
      ]
    },
    {
      "cell_type": "markdown",
      "source": [
        "### what is one hot encode? Example pic:"
      ],
      "metadata": {
        "id": "eO7PyVnJLmAQ"
      }
    },
    {
      "cell_type": "markdown",
      "source": [
        "![image.png](data:image/png;base64,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)"
      ],
      "metadata": {
        "id": "jCHsrq8ILzaf"
      }
    },
    {
      "cell_type": "code",
      "source": [
        "# the persentges are just the porbabilty that the model thinks that the number given is a certin output"
      ],
      "metadata": {
        "id": "VZNRjj1gLlXR"
      },
      "execution_count": 22,
      "outputs": []
    },
    {
      "cell_type": "code",
      "source": [
        "# lets one hot encode the data now!\n",
        "import pandas as pd\n",
        "y_test, y_train = pd.get_dummies(y_test), pd.get_dummies(y_train)"
      ],
      "metadata": {
        "id": "XAjHjLi4OiAs"
      },
      "execution_count": 23,
      "outputs": []
    },
    {
      "cell_type": "code",
      "source": [
        "y_test.head()"
      ],
      "metadata": {
        "colab": {
          "base_uri": "https://localhost:8080/",
          "height": 206
        },
        "id": "zcFqwBVYPeez",
        "outputId": "db27c1cd-f8a0-40e8-bbe7-00d7edd3c3b9"
      },
      "execution_count": 24,
      "outputs": [
        {
          "output_type": "execute_result",
          "data": {
            "text/plain": [
              "       0      1      2      3      4      5      6      7      8      9\n",
              "0  False  False  False  False  False  False  False   True  False  False\n",
              "1  False  False   True  False  False  False  False  False  False  False\n",
              "2  False   True  False  False  False  False  False  False  False  False\n",
              "3   True  False  False  False  False  False  False  False  False  False\n",
              "4  False  False  False  False   True  False  False  False  False  False"
            ],
            "text/html": [
              "\n",
              "  <div id=\"df-37fa3930-5575-414a-8ce1-745ae1e0c268\" class=\"colab-df-container\">\n",
              "    <div>\n",
              "<style scoped>\n",
              "    .dataframe tbody tr th:only-of-type {\n",
              "        vertical-align: middle;\n",
              "    }\n",
              "\n",
              "    .dataframe tbody tr th {\n",
              "        vertical-align: top;\n",
              "    }\n",
              "\n",
              "    .dataframe thead th {\n",
              "        text-align: right;\n",
              "    }\n",
              "</style>\n",
              "<table border=\"1\" class=\"dataframe\">\n",
              "  <thead>\n",
              "    <tr style=\"text-align: right;\">\n",
              "      <th></th>\n",
              "      <th>0</th>\n",
              "      <th>1</th>\n",
              "      <th>2</th>\n",
              "      <th>3</th>\n",
              "      <th>4</th>\n",
              "      <th>5</th>\n",
              "      <th>6</th>\n",
              "      <th>7</th>\n",
              "      <th>8</th>\n",
              "      <th>9</th>\n",
              "    </tr>\n",
              "  </thead>\n",
              "  <tbody>\n",
              "    <tr>\n",
              "      <th>0</th>\n",
              "      <td>False</td>\n",
              "      <td>False</td>\n",
              "      <td>False</td>\n",
              "      <td>False</td>\n",
              "      <td>False</td>\n",
              "      <td>False</td>\n",
              "      <td>False</td>\n",
              "      <td>True</td>\n",
              "      <td>False</td>\n",
              "      <td>False</td>\n",
              "    </tr>\n",
              "    <tr>\n",
              "      <th>1</th>\n",
              "      <td>False</td>\n",
              "      <td>False</td>\n",
              "      <td>True</td>\n",
              "      <td>False</td>\n",
              "      <td>False</td>\n",
              "      <td>False</td>\n",
              "      <td>False</td>\n",
              "      <td>False</td>\n",
              "      <td>False</td>\n",
              "      <td>False</td>\n",
              "    </tr>\n",
              "    <tr>\n",
              "      <th>2</th>\n",
              "      <td>False</td>\n",
              "      <td>True</td>\n",
              "      <td>False</td>\n",
              "      <td>False</td>\n",
              "      <td>False</td>\n",
              "      <td>False</td>\n",
              "      <td>False</td>\n",
              "      <td>False</td>\n",
              "      <td>False</td>\n",
              "      <td>False</td>\n",
              "    </tr>\n",
              "    <tr>\n",
              "      <th>3</th>\n",
              "      <td>True</td>\n",
              "      <td>False</td>\n",
              "      <td>False</td>\n",
              "      <td>False</td>\n",
              "      <td>False</td>\n",
              "      <td>False</td>\n",
              "      <td>False</td>\n",
              "      <td>False</td>\n",
              "      <td>False</td>\n",
              "      <td>False</td>\n",
              "    </tr>\n",
              "    <tr>\n",
              "      <th>4</th>\n",
              "      <td>False</td>\n",
              "      <td>False</td>\n",
              "      <td>False</td>\n",
              "      <td>False</td>\n",
              "      <td>True</td>\n",
              "      <td>False</td>\n",
              "      <td>False</td>\n",
              "      <td>False</td>\n",
              "      <td>False</td>\n",
              "      <td>False</td>\n",
              "    </tr>\n",
              "  </tbody>\n",
              "</table>\n",
              "</div>\n",
              "    <div class=\"colab-df-buttons\">\n",
              "\n",
              "  <div class=\"colab-df-container\">\n",
              "    <button class=\"colab-df-convert\" onclick=\"convertToInteractive('df-37fa3930-5575-414a-8ce1-745ae1e0c268')\"\n",
              "            title=\"Convert this dataframe to an interactive table.\"\n",
              "            style=\"display:none;\">\n",
              "\n",
              "  <svg xmlns=\"http://www.w3.org/2000/svg\" height=\"24px\" viewBox=\"0 -960 960 960\">\n",
              "    <path d=\"M120-120v-720h720v720H120Zm60-500h600v-160H180v160Zm220 220h160v-160H400v160Zm0 220h160v-160H400v160ZM180-400h160v-160H180v160Zm440 0h160v-160H620v160ZM180-180h160v-160H180v160Zm440 0h160v-160H620v160Z\"/>\n",
              "  </svg>\n",
              "    </button>\n",
              "\n",
              "  <style>\n",
              "    .colab-df-container {\n",
              "      display:flex;\n",
              "      gap: 12px;\n",
              "    }\n",
              "\n",
              "    .colab-df-convert {\n",
              "      background-color: #E8F0FE;\n",
              "      border: none;\n",
              "      border-radius: 50%;\n",
              "      cursor: pointer;\n",
              "      display: none;\n",
              "      fill: #1967D2;\n",
              "      height: 32px;\n",
              "      padding: 0 0 0 0;\n",
              "      width: 32px;\n",
              "    }\n",
              "\n",
              "    .colab-df-convert:hover {\n",
              "      background-color: #E2EBFA;\n",
              "      box-shadow: 0px 1px 2px rgba(60, 64, 67, 0.3), 0px 1px 3px 1px rgba(60, 64, 67, 0.15);\n",
              "      fill: #174EA6;\n",
              "    }\n",
              "\n",
              "    .colab-df-buttons div {\n",
              "      margin-bottom: 4px;\n",
              "    }\n",
              "\n",
              "    [theme=dark] .colab-df-convert {\n",
              "      background-color: #3B4455;\n",
              "      fill: #D2E3FC;\n",
              "    }\n",
              "\n",
              "    [theme=dark] .colab-df-convert:hover {\n",
              "      background-color: #434B5C;\n",
              "      box-shadow: 0px 1px 3px 1px rgba(0, 0, 0, 0.15);\n",
              "      filter: drop-shadow(0px 1px 2px rgba(0, 0, 0, 0.3));\n",
              "      fill: #FFFFFF;\n",
              "    }\n",
              "  </style>\n",
              "\n",
              "    <script>\n",
              "      const buttonEl =\n",
              "        document.querySelector('#df-37fa3930-5575-414a-8ce1-745ae1e0c268 button.colab-df-convert');\n",
              "      buttonEl.style.display =\n",
              "        google.colab.kernel.accessAllowed ? 'block' : 'none';\n",
              "\n",
              "      async function convertToInteractive(key) {\n",
              "        const element = document.querySelector('#df-37fa3930-5575-414a-8ce1-745ae1e0c268');\n",
              "        const dataTable =\n",
              "          await google.colab.kernel.invokeFunction('convertToInteractive',\n",
              "                                                    [key], {});\n",
              "        if (!dataTable) return;\n",
              "\n",
              "        const docLinkHtml = 'Like what you see? Visit the ' +\n",
              "          '<a target=\"_blank\" href=https://colab.research.google.com/notebooks/data_table.ipynb>data table notebook</a>'\n",
              "          + ' to learn more about interactive tables.';\n",
              "        element.innerHTML = '';\n",
              "        dataTable['output_type'] = 'display_data';\n",
              "        await google.colab.output.renderOutput(dataTable, element);\n",
              "        const docLink = document.createElement('div');\n",
              "        docLink.innerHTML = docLinkHtml;\n",
              "        element.appendChild(docLink);\n",
              "      }\n",
              "    </script>\n",
              "  </div>\n",
              "\n",
              "\n",
              "<div id=\"df-8295e337-8fcd-4721-8ad9-168b667e10a3\">\n",
              "  <button class=\"colab-df-quickchart\" onclick=\"quickchart('df-8295e337-8fcd-4721-8ad9-168b667e10a3')\"\n",
              "            title=\"Suggest charts\"\n",
              "            style=\"display:none;\">\n",
              "\n",
              "<svg xmlns=\"http://www.w3.org/2000/svg\" height=\"24px\"viewBox=\"0 0 24 24\"\n",
              "     width=\"24px\">\n",
              "    <g>\n",
              "        <path d=\"M19 3H5c-1.1 0-2 .9-2 2v14c0 1.1.9 2 2 2h14c1.1 0 2-.9 2-2V5c0-1.1-.9-2-2-2zM9 17H7v-7h2v7zm4 0h-2V7h2v10zm4 0h-2v-4h2v4z\"/>\n",
              "    </g>\n",
              "</svg>\n",
              "  </button>\n",
              "\n",
              "<style>\n",
              "  .colab-df-quickchart {\n",
              "      --bg-color: #E8F0FE;\n",
              "      --fill-color: #1967D2;\n",
              "      --hover-bg-color: #E2EBFA;\n",
              "      --hover-fill-color: #174EA6;\n",
              "      --disabled-fill-color: #AAA;\n",
              "      --disabled-bg-color: #DDD;\n",
              "  }\n",
              "\n",
              "  [theme=dark] .colab-df-quickchart {\n",
              "      --bg-color: #3B4455;\n",
              "      --fill-color: #D2E3FC;\n",
              "      --hover-bg-color: #434B5C;\n",
              "      --hover-fill-color: #FFFFFF;\n",
              "      --disabled-bg-color: #3B4455;\n",
              "      --disabled-fill-color: #666;\n",
              "  }\n",
              "\n",
              "  .colab-df-quickchart {\n",
              "    background-color: var(--bg-color);\n",
              "    border: none;\n",
              "    border-radius: 50%;\n",
              "    cursor: pointer;\n",
              "    display: none;\n",
              "    fill: var(--fill-color);\n",
              "    height: 32px;\n",
              "    padding: 0;\n",
              "    width: 32px;\n",
              "  }\n",
              "\n",
              "  .colab-df-quickchart:hover {\n",
              "    background-color: var(--hover-bg-color);\n",
              "    box-shadow: 0 1px 2px rgba(60, 64, 67, 0.3), 0 1px 3px 1px rgba(60, 64, 67, 0.15);\n",
              "    fill: var(--button-hover-fill-color);\n",
              "  }\n",
              "\n",
              "  .colab-df-quickchart-complete:disabled,\n",
              "  .colab-df-quickchart-complete:disabled:hover {\n",
              "    background-color: var(--disabled-bg-color);\n",
              "    fill: var(--disabled-fill-color);\n",
              "    box-shadow: none;\n",
              "  }\n",
              "\n",
              "  .colab-df-spinner {\n",
              "    border: 2px solid var(--fill-color);\n",
              "    border-color: transparent;\n",
              "    border-bottom-color: var(--fill-color);\n",
              "    animation:\n",
              "      spin 1s steps(1) infinite;\n",
              "  }\n",
              "\n",
              "  @keyframes spin {\n",
              "    0% {\n",
              "      border-color: transparent;\n",
              "      border-bottom-color: var(--fill-color);\n",
              "      border-left-color: var(--fill-color);\n",
              "    }\n",
              "    20% {\n",
              "      border-color: transparent;\n",
              "      border-left-color: var(--fill-color);\n",
              "      border-top-color: var(--fill-color);\n",
              "    }\n",
              "    30% {\n",
              "      border-color: transparent;\n",
              "      border-left-color: var(--fill-color);\n",
              "      border-top-color: var(--fill-color);\n",
              "      border-right-color: var(--fill-color);\n",
              "    }\n",
              "    40% {\n",
              "      border-color: transparent;\n",
              "      border-right-color: var(--fill-color);\n",
              "      border-top-color: var(--fill-color);\n",
              "    }\n",
              "    60% {\n",
              "      border-color: transparent;\n",
              "      border-right-color: var(--fill-color);\n",
              "    }\n",
              "    80% {\n",
              "      border-color: transparent;\n",
              "      border-right-color: var(--fill-color);\n",
              "      border-bottom-color: var(--fill-color);\n",
              "    }\n",
              "    90% {\n",
              "      border-color: transparent;\n",
              "      border-bottom-color: var(--fill-color);\n",
              "    }\n",
              "  }\n",
              "</style>\n",
              "\n",
              "  <script>\n",
              "    async function quickchart(key) {\n",
              "      const quickchartButtonEl =\n",
              "        document.querySelector('#' + key + ' button');\n",
              "      quickchartButtonEl.disabled = true;  // To prevent multiple clicks.\n",
              "      quickchartButtonEl.classList.add('colab-df-spinner');\n",
              "      try {\n",
              "        const charts = await google.colab.kernel.invokeFunction(\n",
              "            'suggestCharts', [key], {});\n",
              "      } catch (error) {\n",
              "        console.error('Error during call to suggestCharts:', error);\n",
              "      }\n",
              "      quickchartButtonEl.classList.remove('colab-df-spinner');\n",
              "      quickchartButtonEl.classList.add('colab-df-quickchart-complete');\n",
              "    }\n",
              "    (() => {\n",
              "      let quickchartButtonEl =\n",
              "        document.querySelector('#df-8295e337-8fcd-4721-8ad9-168b667e10a3 button');\n",
              "      quickchartButtonEl.style.display =\n",
              "        google.colab.kernel.accessAllowed ? 'block' : 'none';\n",
              "    })();\n",
              "  </script>\n",
              "</div>\n",
              "\n",
              "    </div>\n",
              "  </div>\n"
            ],
            "application/vnd.google.colaboratory.intrinsic+json": {
              "type": "dataframe",
              "variable_name": "y_test",
              "summary": "{\n  \"name\": \"y_test\",\n  \"rows\": 10000,\n  \"fields\": [\n    {\n      \"column\": 0,\n      \"properties\": {\n        \"dtype\": \"boolean\",\n        \"num_unique_values\": 2,\n        \"samples\": [\n          true,\n          false\n        ],\n        \"semantic_type\": \"\",\n        \"description\": \"\"\n      }\n    },\n    {\n      \"column\": 1,\n      \"properties\": {\n        \"dtype\": \"boolean\",\n        \"num_unique_values\": 2,\n        \"samples\": [\n          true,\n          false\n        ],\n        \"semantic_type\": \"\",\n        \"description\": \"\"\n      }\n    },\n    {\n      \"column\": 2,\n      \"properties\": {\n        \"dtype\": \"boolean\",\n        \"num_unique_values\": 2,\n        \"samples\": [\n          true,\n          false\n        ],\n        \"semantic_type\": \"\",\n        \"description\": \"\"\n      }\n    },\n    {\n      \"column\": 3,\n      \"properties\": {\n        \"dtype\": \"boolean\",\n        \"num_unique_values\": 2,\n        \"samples\": [\n          true,\n          false\n        ],\n        \"semantic_type\": \"\",\n        \"description\": \"\"\n      }\n    },\n    {\n      \"column\": 4,\n      \"properties\": {\n        \"dtype\": \"boolean\",\n        \"num_unique_values\": 2,\n        \"samples\": [\n          true,\n          false\n        ],\n        \"semantic_type\": \"\",\n        \"description\": \"\"\n      }\n    },\n    {\n      \"column\": 5,\n      \"properties\": {\n        \"dtype\": \"boolean\",\n        \"num_unique_values\": 2,\n        \"samples\": [\n          true,\n          false\n        ],\n        \"semantic_type\": \"\",\n        \"description\": \"\"\n      }\n    },\n    {\n      \"column\": 6,\n      \"properties\": {\n        \"dtype\": \"boolean\",\n        \"num_unique_values\": 2,\n        \"samples\": [\n          true,\n          false\n        ],\n        \"semantic_type\": \"\",\n        \"description\": \"\"\n      }\n    },\n    {\n      \"column\": 7,\n      \"properties\": {\n        \"dtype\": \"boolean\",\n        \"num_unique_values\": 2,\n        \"samples\": [\n          false,\n          true\n        ],\n        \"semantic_type\": \"\",\n        \"description\": \"\"\n      }\n    },\n    {\n      \"column\": 8,\n      \"properties\": {\n        \"dtype\": \"boolean\",\n        \"num_unique_values\": 2,\n        \"samples\": [\n          true,\n          false\n        ],\n        \"semantic_type\": \"\",\n        \"description\": \"\"\n      }\n    },\n    {\n      \"column\": 9,\n      \"properties\": {\n        \"dtype\": \"boolean\",\n        \"num_unique_values\": 2,\n        \"samples\": [\n          true,\n          false\n        ],\n        \"semantic_type\": \"\",\n        \"description\": \"\"\n      }\n    }\n  ]\n}"
            }
          },
          "metadata": {},
          "execution_count": 24
        }
      ]
    },
    {
      "cell_type": "code",
      "source": [
        "# Now convert bool to int\n",
        "y_test = y_test.astype(int)\n",
        "y_train = y_train.astype(int)"
      ],
      "metadata": {
        "id": "VEayc1lxPAn4"
      },
      "execution_count": 25,
      "outputs": []
    },
    {
      "cell_type": "code",
      "source": [
        "y_test.head()"
      ],
      "metadata": {
        "colab": {
          "base_uri": "https://localhost:8080/",
          "height": 206
        },
        "id": "b0HQZOuWPkOU",
        "outputId": "d35a6e2a-432d-4b59-a134-141526193a53"
      },
      "execution_count": 26,
      "outputs": [
        {
          "output_type": "execute_result",
          "data": {
            "text/plain": [
              "   0  1  2  3  4  5  6  7  8  9\n",
              "0  0  0  0  0  0  0  0  1  0  0\n",
              "1  0  0  1  0  0  0  0  0  0  0\n",
              "2  0  1  0  0  0  0  0  0  0  0\n",
              "3  1  0  0  0  0  0  0  0  0  0\n",
              "4  0  0  0  0  1  0  0  0  0  0"
            ],
            "text/html": [
              "\n",
              "  <div id=\"df-1332adbd-9bac-4a24-bc8c-8c35d67fc27a\" class=\"colab-df-container\">\n",
              "    <div>\n",
              "<style scoped>\n",
              "    .dataframe tbody tr th:only-of-type {\n",
              "        vertical-align: middle;\n",
              "    }\n",
              "\n",
              "    .dataframe tbody tr th {\n",
              "        vertical-align: top;\n",
              "    }\n",
              "\n",
              "    .dataframe thead th {\n",
              "        text-align: right;\n",
              "    }\n",
              "</style>\n",
              "<table border=\"1\" class=\"dataframe\">\n",
              "  <thead>\n",
              "    <tr style=\"text-align: right;\">\n",
              "      <th></th>\n",
              "      <th>0</th>\n",
              "      <th>1</th>\n",
              "      <th>2</th>\n",
              "      <th>3</th>\n",
              "      <th>4</th>\n",
              "      <th>5</th>\n",
              "      <th>6</th>\n",
              "      <th>7</th>\n",
              "      <th>8</th>\n",
              "      <th>9</th>\n",
              "    </tr>\n",
              "  </thead>\n",
              "  <tbody>\n",
              "    <tr>\n",
              "      <th>0</th>\n",
              "      <td>0</td>\n",
              "      <td>0</td>\n",
              "      <td>0</td>\n",
              "      <td>0</td>\n",
              "      <td>0</td>\n",
              "      <td>0</td>\n",
              "      <td>0</td>\n",
              "      <td>1</td>\n",
              "      <td>0</td>\n",
              "      <td>0</td>\n",
              "    </tr>\n",
              "    <tr>\n",
              "      <th>1</th>\n",
              "      <td>0</td>\n",
              "      <td>0</td>\n",
              "      <td>1</td>\n",
              "      <td>0</td>\n",
              "      <td>0</td>\n",
              "      <td>0</td>\n",
              "      <td>0</td>\n",
              "      <td>0</td>\n",
              "      <td>0</td>\n",
              "      <td>0</td>\n",
              "    </tr>\n",
              "    <tr>\n",
              "      <th>2</th>\n",
              "      <td>0</td>\n",
              "      <td>1</td>\n",
              "      <td>0</td>\n",
              "      <td>0</td>\n",
              "      <td>0</td>\n",
              "      <td>0</td>\n",
              "      <td>0</td>\n",
              "      <td>0</td>\n",
              "      <td>0</td>\n",
              "      <td>0</td>\n",
              "    </tr>\n",
              "    <tr>\n",
              "      <th>3</th>\n",
              "      <td>1</td>\n",
              "      <td>0</td>\n",
              "      <td>0</td>\n",
              "      <td>0</td>\n",
              "      <td>0</td>\n",
              "      <td>0</td>\n",
              "      <td>0</td>\n",
              "      <td>0</td>\n",
              "      <td>0</td>\n",
              "      <td>0</td>\n",
              "    </tr>\n",
              "    <tr>\n",
              "      <th>4</th>\n",
              "      <td>0</td>\n",
              "      <td>0</td>\n",
              "      <td>0</td>\n",
              "      <td>0</td>\n",
              "      <td>1</td>\n",
              "      <td>0</td>\n",
              "      <td>0</td>\n",
              "      <td>0</td>\n",
              "      <td>0</td>\n",
              "      <td>0</td>\n",
              "    </tr>\n",
              "  </tbody>\n",
              "</table>\n",
              "</div>\n",
              "    <div class=\"colab-df-buttons\">\n",
              "\n",
              "  <div class=\"colab-df-container\">\n",
              "    <button class=\"colab-df-convert\" onclick=\"convertToInteractive('df-1332adbd-9bac-4a24-bc8c-8c35d67fc27a')\"\n",
              "            title=\"Convert this dataframe to an interactive table.\"\n",
              "            style=\"display:none;\">\n",
              "\n",
              "  <svg xmlns=\"http://www.w3.org/2000/svg\" height=\"24px\" viewBox=\"0 -960 960 960\">\n",
              "    <path d=\"M120-120v-720h720v720H120Zm60-500h600v-160H180v160Zm220 220h160v-160H400v160Zm0 220h160v-160H400v160ZM180-400h160v-160H180v160Zm440 0h160v-160H620v160ZM180-180h160v-160H180v160Zm440 0h160v-160H620v160Z\"/>\n",
              "  </svg>\n",
              "    </button>\n",
              "\n",
              "  <style>\n",
              "    .colab-df-container {\n",
              "      display:flex;\n",
              "      gap: 12px;\n",
              "    }\n",
              "\n",
              "    .colab-df-convert {\n",
              "      background-color: #E8F0FE;\n",
              "      border: none;\n",
              "      border-radius: 50%;\n",
              "      cursor: pointer;\n",
              "      display: none;\n",
              "      fill: #1967D2;\n",
              "      height: 32px;\n",
              "      padding: 0 0 0 0;\n",
              "      width: 32px;\n",
              "    }\n",
              "\n",
              "    .colab-df-convert:hover {\n",
              "      background-color: #E2EBFA;\n",
              "      box-shadow: 0px 1px 2px rgba(60, 64, 67, 0.3), 0px 1px 3px 1px rgba(60, 64, 67, 0.15);\n",
              "      fill: #174EA6;\n",
              "    }\n",
              "\n",
              "    .colab-df-buttons div {\n",
              "      margin-bottom: 4px;\n",
              "    }\n",
              "\n",
              "    [theme=dark] .colab-df-convert {\n",
              "      background-color: #3B4455;\n",
              "      fill: #D2E3FC;\n",
              "    }\n",
              "\n",
              "    [theme=dark] .colab-df-convert:hover {\n",
              "      background-color: #434B5C;\n",
              "      box-shadow: 0px 1px 3px 1px rgba(0, 0, 0, 0.15);\n",
              "      filter: drop-shadow(0px 1px 2px rgba(0, 0, 0, 0.3));\n",
              "      fill: #FFFFFF;\n",
              "    }\n",
              "  </style>\n",
              "\n",
              "    <script>\n",
              "      const buttonEl =\n",
              "        document.querySelector('#df-1332adbd-9bac-4a24-bc8c-8c35d67fc27a button.colab-df-convert');\n",
              "      buttonEl.style.display =\n",
              "        google.colab.kernel.accessAllowed ? 'block' : 'none';\n",
              "\n",
              "      async function convertToInteractive(key) {\n",
              "        const element = document.querySelector('#df-1332adbd-9bac-4a24-bc8c-8c35d67fc27a');\n",
              "        const dataTable =\n",
              "          await google.colab.kernel.invokeFunction('convertToInteractive',\n",
              "                                                    [key], {});\n",
              "        if (!dataTable) return;\n",
              "\n",
              "        const docLinkHtml = 'Like what you see? Visit the ' +\n",
              "          '<a target=\"_blank\" href=https://colab.research.google.com/notebooks/data_table.ipynb>data table notebook</a>'\n",
              "          + ' to learn more about interactive tables.';\n",
              "        element.innerHTML = '';\n",
              "        dataTable['output_type'] = 'display_data';\n",
              "        await google.colab.output.renderOutput(dataTable, element);\n",
              "        const docLink = document.createElement('div');\n",
              "        docLink.innerHTML = docLinkHtml;\n",
              "        element.appendChild(docLink);\n",
              "      }\n",
              "    </script>\n",
              "  </div>\n",
              "\n",
              "\n",
              "<div id=\"df-55fd2041-fa46-4042-bb03-159930999bac\">\n",
              "  <button class=\"colab-df-quickchart\" onclick=\"quickchart('df-55fd2041-fa46-4042-bb03-159930999bac')\"\n",
              "            title=\"Suggest charts\"\n",
              "            style=\"display:none;\">\n",
              "\n",
              "<svg xmlns=\"http://www.w3.org/2000/svg\" height=\"24px\"viewBox=\"0 0 24 24\"\n",
              "     width=\"24px\">\n",
              "    <g>\n",
              "        <path d=\"M19 3H5c-1.1 0-2 .9-2 2v14c0 1.1.9 2 2 2h14c1.1 0 2-.9 2-2V5c0-1.1-.9-2-2-2zM9 17H7v-7h2v7zm4 0h-2V7h2v10zm4 0h-2v-4h2v4z\"/>\n",
              "    </g>\n",
              "</svg>\n",
              "  </button>\n",
              "\n",
              "<style>\n",
              "  .colab-df-quickchart {\n",
              "      --bg-color: #E8F0FE;\n",
              "      --fill-color: #1967D2;\n",
              "      --hover-bg-color: #E2EBFA;\n",
              "      --hover-fill-color: #174EA6;\n",
              "      --disabled-fill-color: #AAA;\n",
              "      --disabled-bg-color: #DDD;\n",
              "  }\n",
              "\n",
              "  [theme=dark] .colab-df-quickchart {\n",
              "      --bg-color: #3B4455;\n",
              "      --fill-color: #D2E3FC;\n",
              "      --hover-bg-color: #434B5C;\n",
              "      --hover-fill-color: #FFFFFF;\n",
              "      --disabled-bg-color: #3B4455;\n",
              "      --disabled-fill-color: #666;\n",
              "  }\n",
              "\n",
              "  .colab-df-quickchart {\n",
              "    background-color: var(--bg-color);\n",
              "    border: none;\n",
              "    border-radius: 50%;\n",
              "    cursor: pointer;\n",
              "    display: none;\n",
              "    fill: var(--fill-color);\n",
              "    height: 32px;\n",
              "    padding: 0;\n",
              "    width: 32px;\n",
              "  }\n",
              "\n",
              "  .colab-df-quickchart:hover {\n",
              "    background-color: var(--hover-bg-color);\n",
              "    box-shadow: 0 1px 2px rgba(60, 64, 67, 0.3), 0 1px 3px 1px rgba(60, 64, 67, 0.15);\n",
              "    fill: var(--button-hover-fill-color);\n",
              "  }\n",
              "\n",
              "  .colab-df-quickchart-complete:disabled,\n",
              "  .colab-df-quickchart-complete:disabled:hover {\n",
              "    background-color: var(--disabled-bg-color);\n",
              "    fill: var(--disabled-fill-color);\n",
              "    box-shadow: none;\n",
              "  }\n",
              "\n",
              "  .colab-df-spinner {\n",
              "    border: 2px solid var(--fill-color);\n",
              "    border-color: transparent;\n",
              "    border-bottom-color: var(--fill-color);\n",
              "    animation:\n",
              "      spin 1s steps(1) infinite;\n",
              "  }\n",
              "\n",
              "  @keyframes spin {\n",
              "    0% {\n",
              "      border-color: transparent;\n",
              "      border-bottom-color: var(--fill-color);\n",
              "      border-left-color: var(--fill-color);\n",
              "    }\n",
              "    20% {\n",
              "      border-color: transparent;\n",
              "      border-left-color: var(--fill-color);\n",
              "      border-top-color: var(--fill-color);\n",
              "    }\n",
              "    30% {\n",
              "      border-color: transparent;\n",
              "      border-left-color: var(--fill-color);\n",
              "      border-top-color: var(--fill-color);\n",
              "      border-right-color: var(--fill-color);\n",
              "    }\n",
              "    40% {\n",
              "      border-color: transparent;\n",
              "      border-right-color: var(--fill-color);\n",
              "      border-top-color: var(--fill-color);\n",
              "    }\n",
              "    60% {\n",
              "      border-color: transparent;\n",
              "      border-right-color: var(--fill-color);\n",
              "    }\n",
              "    80% {\n",
              "      border-color: transparent;\n",
              "      border-right-color: var(--fill-color);\n",
              "      border-bottom-color: var(--fill-color);\n",
              "    }\n",
              "    90% {\n",
              "      border-color: transparent;\n",
              "      border-bottom-color: var(--fill-color);\n",
              "    }\n",
              "  }\n",
              "</style>\n",
              "\n",
              "  <script>\n",
              "    async function quickchart(key) {\n",
              "      const quickchartButtonEl =\n",
              "        document.querySelector('#' + key + ' button');\n",
              "      quickchartButtonEl.disabled = true;  // To prevent multiple clicks.\n",
              "      quickchartButtonEl.classList.add('colab-df-spinner');\n",
              "      try {\n",
              "        const charts = await google.colab.kernel.invokeFunction(\n",
              "            'suggestCharts', [key], {});\n",
              "      } catch (error) {\n",
              "        console.error('Error during call to suggestCharts:', error);\n",
              "      }\n",
              "      quickchartButtonEl.classList.remove('colab-df-spinner');\n",
              "      quickchartButtonEl.classList.add('colab-df-quickchart-complete');\n",
              "    }\n",
              "    (() => {\n",
              "      let quickchartButtonEl =\n",
              "        document.querySelector('#df-55fd2041-fa46-4042-bb03-159930999bac button');\n",
              "      quickchartButtonEl.style.display =\n",
              "        google.colab.kernel.accessAllowed ? 'block' : 'none';\n",
              "    })();\n",
              "  </script>\n",
              "</div>\n",
              "\n",
              "    </div>\n",
              "  </div>\n"
            ],
            "application/vnd.google.colaboratory.intrinsic+json": {
              "type": "dataframe",
              "variable_name": "y_test",
              "summary": "{\n  \"name\": \"y_test\",\n  \"rows\": 10000,\n  \"fields\": [\n    {\n      \"column\": 0,\n      \"properties\": {\n        \"dtype\": \"number\",\n        \"std\": 0,\n        \"min\": 0,\n        \"max\": 1,\n        \"num_unique_values\": 2,\n        \"samples\": [\n          1,\n          0\n        ],\n        \"semantic_type\": \"\",\n        \"description\": \"\"\n      }\n    },\n    {\n      \"column\": 1,\n      \"properties\": {\n        \"dtype\": \"number\",\n        \"std\": 0,\n        \"min\": 0,\n        \"max\": 1,\n        \"num_unique_values\": 2,\n        \"samples\": [\n          1,\n          0\n        ],\n        \"semantic_type\": \"\",\n        \"description\": \"\"\n      }\n    },\n    {\n      \"column\": 2,\n      \"properties\": {\n        \"dtype\": \"number\",\n        \"std\": 0,\n        \"min\": 0,\n        \"max\": 1,\n        \"num_unique_values\": 2,\n        \"samples\": [\n          1,\n          0\n        ],\n        \"semantic_type\": \"\",\n        \"description\": \"\"\n      }\n    },\n    {\n      \"column\": 3,\n      \"properties\": {\n        \"dtype\": \"number\",\n        \"std\": 0,\n        \"min\": 0,\n        \"max\": 1,\n        \"num_unique_values\": 2,\n        \"samples\": [\n          1,\n          0\n        ],\n        \"semantic_type\": \"\",\n        \"description\": \"\"\n      }\n    },\n    {\n      \"column\": 4,\n      \"properties\": {\n        \"dtype\": \"number\",\n        \"std\": 0,\n        \"min\": 0,\n        \"max\": 1,\n        \"num_unique_values\": 2,\n        \"samples\": [\n          1,\n          0\n        ],\n        \"semantic_type\": \"\",\n        \"description\": \"\"\n      }\n    },\n    {\n      \"column\": 5,\n      \"properties\": {\n        \"dtype\": \"number\",\n        \"std\": 0,\n        \"min\": 0,\n        \"max\": 1,\n        \"num_unique_values\": 2,\n        \"samples\": [\n          1,\n          0\n        ],\n        \"semantic_type\": \"\",\n        \"description\": \"\"\n      }\n    },\n    {\n      \"column\": 6,\n      \"properties\": {\n        \"dtype\": \"number\",\n        \"std\": 0,\n        \"min\": 0,\n        \"max\": 1,\n        \"num_unique_values\": 2,\n        \"samples\": [\n          1,\n          0\n        ],\n        \"semantic_type\": \"\",\n        \"description\": \"\"\n      }\n    },\n    {\n      \"column\": 7,\n      \"properties\": {\n        \"dtype\": \"number\",\n        \"std\": 0,\n        \"min\": 0,\n        \"max\": 1,\n        \"num_unique_values\": 2,\n        \"samples\": [\n          0,\n          1\n        ],\n        \"semantic_type\": \"\",\n        \"description\": \"\"\n      }\n    },\n    {\n      \"column\": 8,\n      \"properties\": {\n        \"dtype\": \"number\",\n        \"std\": 0,\n        \"min\": 0,\n        \"max\": 1,\n        \"num_unique_values\": 2,\n        \"samples\": [\n          1,\n          0\n        ],\n        \"semantic_type\": \"\",\n        \"description\": \"\"\n      }\n    },\n    {\n      \"column\": 9,\n      \"properties\": {\n        \"dtype\": \"number\",\n        \"std\": 0,\n        \"min\": 0,\n        \"max\": 1,\n        \"num_unique_values\": 2,\n        \"samples\": [\n          1,\n          0\n        ],\n        \"semantic_type\": \"\",\n        \"description\": \"\"\n      }\n    }\n  ]\n}"
            }
          },
          "metadata": {},
          "execution_count": 26
        }
      ]
    },
    {
      "cell_type": "code",
      "source": [
        "#Yay! our data is now one-hot encoded!"
      ],
      "metadata": {
        "id": "zTLz3QSLPmIA"
      },
      "execution_count": 27,
      "outputs": []
    },
    {
      "cell_type": "code",
      "source": [
        "#lets see the perforance hit/bump"
      ],
      "metadata": {
        "id": "vuxjTWb1Ppw7"
      },
      "execution_count": 28,
      "outputs": []
    },
    {
      "cell_type": "code",
      "source": [
        "\n",
        "\n",
        "model = keras.Sequential(\n",
        "    [\n",
        "        keras.layers.Dense(784, input_shape=(784,), activation='sigmoid'),\n",
        "        keras.layers.Dense(450, activation='sigmoid'),\n",
        "        keras.layers.Dense(250, activation='sigmoid'),\n",
        "        keras.layers.Dense(10, activation='sigmoid')\n",
        "\n",
        "    ]\n",
        ")\n",
        "model.compile(optimizer='adam', loss='categorical_crossentropy', metrics=['accuracy'])\n",
        "\n",
        "model.fit(x_train_flattened, y_train, epochs=10)\n",
        "\n",
        "test_loss, test_acc = model.evaluate(x_test_flattened, y_test)\n",
        "\n",
        "print('Test loss:', test_loss)\n",
        "print('Test accuracy:', test_acc)\n"
      ],
      "metadata": {
        "colab": {
          "base_uri": "https://localhost:8080/"
        },
        "id": "X-Qu395cRBnE",
        "outputId": "68fc0915-c2f8-4bd0-b9ab-99596b819486"
      },
      "execution_count": 29,
      "outputs": [
        {
          "output_type": "stream",
          "name": "stdout",
          "text": [
            "Epoch 1/10\n",
            "1875/1875 [==============================] - 8s 4ms/step - loss: 0.4036 - accuracy: 0.8760\n",
            "Epoch 2/10\n",
            "1875/1875 [==============================] - 6s 3ms/step - loss: 0.2737 - accuracy: 0.9139\n",
            "Epoch 3/10\n",
            "1875/1875 [==============================] - 6s 3ms/step - loss: 0.2337 - accuracy: 0.9254\n",
            "Epoch 4/10\n",
            "1875/1875 [==============================] - 6s 3ms/step - loss: 0.2038 - accuracy: 0.9354\n",
            "Epoch 5/10\n",
            "1875/1875 [==============================] - 7s 3ms/step - loss: 0.1871 - accuracy: 0.9404\n",
            "Epoch 6/10\n",
            "1875/1875 [==============================] - 6s 3ms/step - loss: 0.1768 - accuracy: 0.9437\n",
            "Epoch 7/10\n",
            "1875/1875 [==============================] - 6s 3ms/step - loss: 0.1672 - accuracy: 0.9460\n",
            "Epoch 8/10\n",
            "1875/1875 [==============================] - 6s 3ms/step - loss: 0.1533 - accuracy: 0.9503\n",
            "Epoch 9/10\n",
            "1875/1875 [==============================] - 7s 3ms/step - loss: 0.1490 - accuracy: 0.9518\n",
            "Epoch 10/10\n",
            "1875/1875 [==============================] - 6s 3ms/step - loss: 0.1376 - accuracy: 0.9555\n",
            "313/313 [==============================] - 1s 2ms/step - loss: 0.1632 - accuracy: 0.9510\n",
            "Test loss: 0.16315101087093353\n",
            "Test accuracy: 0.9509999752044678\n"
          ]
        }
      ]
    },
    {
      "cell_type": "code",
      "source": [
        "#  Yaaa I really expected more.. I debugged it but it seems to be around this value.. next time lets chnge smth with teh x_data"
      ],
      "metadata": {
        "id": "QXxF054eUZbV"
      },
      "execution_count": 30,
      "outputs": []
    },
    {
      "cell_type": "code",
      "source": [
        "# Now lets try to reduce the pixcel values of x_vals to 0-1\n"
      ],
      "metadata": {
        "id": "G9y9PhucX-EZ"
      },
      "execution_count": 31,
      "outputs": []
    },
    {
      "cell_type": "code",
      "source": [
        "x_train_normal = x_train_flattened.reshape(len(x_train), 28 * 28) / 255\n",
        "x_test_normal = x_test_flattened.reshape(len(x_test), 28 * 28) / 255"
      ],
      "metadata": {
        "id": "tzf00Qr7YTEZ"
      },
      "execution_count": 32,
      "outputs": []
    },
    {
      "cell_type": "code",
      "source": [
        "# now lets try training the model again.."
      ],
      "metadata": {
        "id": "9LghR_tkYo5A"
      },
      "execution_count": 33,
      "outputs": []
    },
    {
      "cell_type": "code",
      "source": [
        "model = keras.Sequential(\n",
        "    [\n",
        "        keras.layers.Dense(784, input_shape=(784,), activation='sigmoid'),\n",
        "        keras.layers.Dense(450, activation='sigmoid'),\n",
        "        keras.layers.Dense(250, activation='sigmoid'),\n",
        "        keras.layers.Dense(10, activation='sigmoid')\n",
        "\n",
        "    ]\n",
        ")\n",
        "model.compile(optimizer='adam', loss='categorical_crossentropy', metrics=['accuracy'])\n",
        "\n",
        "model.fit(x_train_normal, y_train, epochs=10)\n",
        "\n",
        "test_loss, test_acc = model.evaluate(x_test_normal, y_test)\n",
        "\n",
        "print('Test loss:', test_loss)\n",
        "print('Test accuracy:', test_acc)"
      ],
      "metadata": {
        "colab": {
          "base_uri": "https://localhost:8080/"
        },
        "id": "3TLCdHpuY5On",
        "outputId": "4b9d47d4-bda7-4317-ef7c-86e6720f2d4a"
      },
      "execution_count": 34,
      "outputs": [
        {
          "output_type": "stream",
          "name": "stdout",
          "text": [
            "Epoch 1/10\n",
            "1875/1875 [==============================] - 8s 3ms/step - loss: 0.3462 - accuracy: 0.8921\n",
            "Epoch 2/10\n",
            "1875/1875 [==============================] - 6s 3ms/step - loss: 0.1364 - accuracy: 0.9587\n",
            "Epoch 3/10\n",
            "1875/1875 [==============================] - 6s 3ms/step - loss: 0.0896 - accuracy: 0.9724\n",
            "Epoch 4/10\n",
            "1875/1875 [==============================] - 6s 3ms/step - loss: 0.0640 - accuracy: 0.9799\n",
            "Epoch 5/10\n",
            "1875/1875 [==============================] - 7s 3ms/step - loss: 0.0475 - accuracy: 0.9847\n",
            "Epoch 6/10\n",
            "1875/1875 [==============================] - 6s 3ms/step - loss: 0.0349 - accuracy: 0.9884\n",
            "Epoch 7/10\n",
            "1875/1875 [==============================] - 7s 4ms/step - loss: 0.0288 - accuracy: 0.9906\n",
            "Epoch 8/10\n",
            "1875/1875 [==============================] - 6s 3ms/step - loss: 0.0212 - accuracy: 0.9932\n",
            "Epoch 9/10\n",
            "1875/1875 [==============================] - 7s 4ms/step - loss: 0.0194 - accuracy: 0.9934\n",
            "Epoch 10/10\n",
            "1875/1875 [==============================] - 6s 3ms/step - loss: 0.0159 - accuracy: 0.9948\n",
            "313/313 [==============================] - 1s 2ms/step - loss: 0.0842 - accuracy: 0.9802\n",
            "Test loss: 0.08419781923294067\n",
            "Test accuracy: 0.9801999926567078\n"
          ]
        }
      ]
    },
    {
      "cell_type": "code",
      "source": [
        "# now lets try to changeteh actication funtions.. softmax is really good for one  hot encoded models.. also lets incrse our neron size!"
      ],
      "metadata": {
        "id": "8B9GVwFC9H6U"
      },
      "execution_count": null,
      "outputs": []
    },
    {
      "cell_type": "code",
      "source": [
        "model = keras.Sequential(\n",
        "    [\n",
        "        keras.layers.Dense(784, input_shape=(784,), activation='sigmoid'),\n",
        "        keras.layers.Dense(1000, activation='sigmoid'),\n",
        "        keras.layers.Dense(500, activation='sigmoid'),\n",
        "        keras.layers.Dense(10, activation='sigmoid')\n",
        "\n",
        "    ]\n",
        ")\n",
        "model.compile(optimizer='adam', loss='categorical_crossentropy', metrics=['accuracy',\"mse\"])\n",
        "\n",
        "model.fit(x_train_normal, y_train, epochs=15)\n",
        "\n",
        "model.evaluate(x_test_normal, y_test)\n",
        "\n",
        "print('Test loss:', test_loss)\n",
        "print('Test accuracy:', test_acc)"
      ],
      "metadata": {
        "colab": {
          "base_uri": "https://localhost:8080/"
        },
        "id": "vru8UiUR9VIe",
        "outputId": "efc1af6b-63a9-497a-dc33-c39fcdecce8e"
      },
      "execution_count": 39,
      "outputs": [
        {
          "output_type": "stream",
          "name": "stdout",
          "text": [
            "Epoch 1/15\n",
            "1875/1875 [==============================] - 8s 4ms/step - loss: 0.3459 - accuracy: 0.8889 - mse: 0.2542\n",
            "Epoch 2/15\n",
            "1875/1875 [==============================] - 6s 3ms/step - loss: 0.1299 - accuracy: 0.9604 - mse: 0.2121\n",
            "Epoch 3/15\n",
            "1875/1875 [==============================] - 7s 4ms/step - loss: 0.0870 - accuracy: 0.9728 - mse: 0.1818\n",
            "Epoch 4/15\n",
            "1875/1875 [==============================] - 6s 3ms/step - loss: 0.0632 - accuracy: 0.9803 - mse: 0.1561\n",
            "Epoch 5/15\n",
            "1875/1875 [==============================] - 7s 4ms/step - loss: 0.0475 - accuracy: 0.9847 - mse: 0.1331\n",
            "Epoch 6/15\n",
            "1875/1875 [==============================] - 6s 3ms/step - loss: 0.0356 - accuracy: 0.9890 - mse: 0.1067\n",
            "Epoch 7/15\n",
            "1875/1875 [==============================] - 7s 4ms/step - loss: 0.0288 - accuracy: 0.9904 - mse: 0.0869\n",
            "Epoch 8/15\n",
            "1875/1875 [==============================] - 6s 3ms/step - loss: 0.0223 - accuracy: 0.9926 - mse: 0.0678\n",
            "Epoch 9/15\n",
            "1875/1875 [==============================] - 7s 4ms/step - loss: 0.0181 - accuracy: 0.9941 - mse: 0.0548\n",
            "Epoch 10/15\n",
            "1875/1875 [==============================] - 7s 4ms/step - loss: 0.0158 - accuracy: 0.9944 - mse: 0.0424\n",
            "Epoch 11/15\n",
            "1875/1875 [==============================] - 7s 4ms/step - loss: 0.0145 - accuracy: 0.9956 - mse: 0.0341\n",
            "Epoch 12/15\n",
            "1875/1875 [==============================] - 7s 4ms/step - loss: 0.0109 - accuracy: 0.9966 - mse: 0.0296\n",
            "Epoch 13/15\n",
            "1875/1875 [==============================] - 6s 3ms/step - loss: 0.0133 - accuracy: 0.9956 - mse: 0.0240\n",
            "Epoch 14/15\n",
            "1875/1875 [==============================] - 7s 4ms/step - loss: 0.0092 - accuracy: 0.9970 - mse: 0.0192\n",
            "Epoch 15/15\n",
            "1875/1875 [==============================] - 6s 3ms/step - loss: 0.0096 - accuracy: 0.9969 - mse: 0.0149\n",
            "313/313 [==============================] - 1s 3ms/step - loss: 0.0932 - accuracy: 0.9819 - mse: 0.0135\n",
            "Test loss: 0.08419781923294067\n",
            "Test accuracy: 0.9801999926567078\n"
          ]
        }
      ]
    },
    {
      "cell_type": "code",
      "source": [
        " # Woww Ig the nuerons were not the problum! Anyways, a 98%% accurcay is still very good!!!"
      ],
      "metadata": {
        "id": "kiGcjG1v_u17"
      },
      "execution_count": null,
      "outputs": []
    }
  ],
  "metadata": {
    "kernelspec": {
      "display_name": "Python 3",
      "name": "python3"
    },
    "language_info": {
      "codemirror_mode": {
        "name": "ipython",
        "version": 3
      },
      "file_extension": ".py",
      "mimetype": "text/x-python",
      "name": "python",
      "nbconvert_exporter": "python",
      "pygments_lexer": "ipython3",
      "version": "3.11.3"
    },
    "colab": {
      "provenance": [],
      "gpuType": "T4"
    },
    "accelerator": "GPU"
  },
  "nbformat": 4,
  "nbformat_minor": 0
}